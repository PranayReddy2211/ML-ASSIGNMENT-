{
  "cells": [
    {
      "cell_type": "code",
      "execution_count": null,
      "metadata": {
        "colab": {
          "base_uri": "https://localhost:8080/"
        },
        "id": "wB6f1a6KrH2c",
        "outputId": "f68e765a-3fdf-42bc-e9ce-2c4562d8f21c"
      },
      "outputs": [
        {
          "name": "stdout",
          "output_type": "stream",
          "text": [
            "Drive already mounted at /drive; to attempt to forcibly remount, call drive.mount(\"/drive\", force_remount=True).\n",
            "         Duration       Pulse    Maxpulse     Calories\n",
            "count  169.000000  169.000000  169.000000   164.000000\n",
            "mean    63.846154  107.461538  134.047337   375.790244\n",
            "std     42.299949   14.510259   16.450434   266.379919\n",
            "min     15.000000   80.000000  100.000000    50.300000\n",
            "25%     45.000000  100.000000  124.000000   250.925000\n",
            "50%     60.000000  105.000000  131.000000   318.600000\n",
            "75%     60.000000  111.000000  141.000000   387.600000\n",
            "max    300.000000  159.000000  184.000000  1860.400000\n"
          ]
        }
      ],
      "source": [
        "import pandas as pd\n",
        "from google.colab import drive\n",
        "\n",
        "#Loading the data into the drive \n",
        "drive.mount('/drive')\n",
        "dataSet = pd.read_csv('/drive/MyDrive/data.csv')\n",
        "\n",
        "# Showing basic statistical description of the data using the description() function\n",
        "print(dataSet.describe())\n"
      ]
    },
    {
      "cell_type": "code",
      "execution_count": null,
      "metadata": {
        "colab": {
          "base_uri": "https://localhost:8080/"
        },
        "id": "DpZ9V6AUsiLq",
        "outputId": "9cc69812-3bb5-4940-db7a-a18288ab4e09"
      },
      "outputs": [
        {
          "data": {
            "text/plain": [
              "Duration    False\n",
              "Pulse       False\n",
              "Calories    False\n",
              "dtype: bool"
            ]
          },
          "execution_count": 23,
          "metadata": {},
          "output_type": "execute_result"
        }
      ],
      "source": [
        "# Checking if the data has null values or not \n",
        "dataSet.isnull().any()"
      ]
    },
    {
      "cell_type": "code",
      "execution_count": null,
      "metadata": {
        "colab": {
          "base_uri": "https://localhost:8080/"
        },
        "id": "oVQR47pzsna7",
        "outputId": "aeabcd80-14b2-4c16-8ff6-c10eaed72dfb"
      },
      "outputs": [
        {
          "data": {
            "text/plain": [
              "Duration    False\n",
              "Pulse       False\n",
              "Maxpulse    False\n",
              "Calories    False\n",
              "dtype: bool"
            ]
          },
          "execution_count": 3,
          "metadata": {},
          "output_type": "execute_result"
        }
      ],
      "source": [
        "# 3.a)Replacing the null values with the mean function \n",
        "dataSet.fillna(dataSet.mean(), inplace=True)\n",
        "dataSet.isnull().any()"
      ]
    },
    {
      "cell_type": "code",
      "execution_count": null,
      "metadata": {
        "colab": {
          "base_uri": "https://localhost:8080/"
        },
        "id": "38KFDk0DswlF",
        "outputId": "d81c8109-00a4-4e88-d960-30e824163d95"
      },
      "outputs": [
        {
          "name": "stdout",
          "output_type": "stream",
          "text": [
            "         Duration     Calories\n",
            "min     15.000000    50.300000\n",
            "max    300.000000  1860.400000\n",
            "count  169.000000   169.000000\n",
            "mean    63.846154   375.790244\n"
          ]
        }
      ],
      "source": [
        "# Aggregating the data using min, max, count, and mean from data set \n",
        "agg_dataSet = dataSet[['Duration', 'Calories']].agg(['min', 'max', 'count', 'mean'])\n",
        "print(agg_dataSet)"
      ]
    },
    {
      "cell_type": "code",
      "execution_count": null,
      "metadata": {
        "colab": {
          "base_uri": "https://localhost:8080/"
        },
        "id": "1AZAU7HSs8o_",
        "outputId": "58f7afce-7a0e-4cbb-bc41-e5cb705e2a7a"
      },
      "outputs": [
        {
          "name": "stdout",
          "output_type": "stream",
          "text": [
            "     Duration  Pulse  Calories\n",
            "51         80    123       643\n",
            "62        160    109       853\n",
            "65        180     90       800\n",
            "66        150    105       873\n",
            "67        150    107       816\n",
            "72         90    100       700\n",
            "73        150     97       953\n",
            "75         90     98       563\n",
            "78        120    100       500\n",
            "83        120    100       500\n",
            "87        120    100      1000\n",
            "90        180    101       600\n",
            "99         90     93       604\n",
            "101        90     90       500\n",
            "102        90     90       500\n",
            "103        90     90       500\n",
            "106       180     90       800\n",
            "108        90     90       500\n"
          ]
        }
      ],
      "source": [
        "# Filtering the dataframe to select rows with calories between 500 and 1000\n",
        "\n",
        "filtered_dataSet = dataSet[(dataSet['Calories'] >= 500) & (dataSet['Calories'] <= 1000)]\n",
        "print(filtered_dataSet)"
      ]
    },
    {
      "cell_type": "code",
      "execution_count": null,
      "metadata": {
        "colab": {
          "base_uri": "https://localhost:8080/"
        },
        "id": "q5hm01Qqs-0o",
        "outputId": "264366d8-f6f0-422d-83fb-29e13834402e"
      },
      "outputs": [
        {
          "name": "stdout",
          "output_type": "stream",
          "text": [
            "     Duration  Pulse  Calories\n",
            "65        180     90       800\n",
            "70        150     97      1115\n",
            "73        150     97       953\n",
            "75         90     98       563\n",
            "99         90     93       604\n",
            "106       180     90       800\n"
          ]
        }
      ],
      "source": [
        "# Filtering the dataframe to select rows with calories > 500 and pulse < 100\n",
        "filtered_dataSet2 = dataSet[(dataSet['Calories'] > 500) & (dataSet['Pulse'] < 100)]\n",
        "print(filtered_dataSet2)"
      ]
    },
    {
      "cell_type": "code",
      "execution_count": null,
      "metadata": {
        "colab": {
          "base_uri": "https://localhost:8080/"
        },
        "id": "SaJV9ZSStZOb",
        "outputId": "b4405bee-d4bf-406f-9e73-d16371e552f5"
      },
      "outputs": [
        {
          "name": "stdout",
          "output_type": "stream",
          "text": [
            "     Duration  Pulse  Calories\n",
            "0          60    110     409.1\n",
            "1          60    117     479.0\n",
            "2          60    103     340.0\n",
            "3          45    109     282.4\n",
            "4          45    117     406.0\n",
            "..        ...    ...       ...\n",
            "164        60    105     290.8\n",
            "165        60    110     300.0\n",
            "166        60    115     310.2\n",
            "167        75    120     320.4\n",
            "168        75    125     330.4\n",
            "\n",
            "[169 rows x 3 columns]\n"
          ]
        }
      ],
      "source": [
        "# Creating a new df_modified dataframe without Maxpulse column\n",
        "dataSet_modified = dataSet.drop(columns=['Maxpulse'])\n",
        "\n",
        "# Printing  the created new dataframe \n",
        "print(dataSet_modified)"
      ]
    },
    {
      "cell_type": "code",
      "execution_count": null,
      "metadata": {
        "colab": {
          "base_uri": "https://localhost:8080/"
        },
        "id": "HAd2MlkttdhL",
        "outputId": "45a62cea-3bae-4481-84e8-4d2eb95c7528"
      },
      "outputs": [
        {
          "name": "stdout",
          "output_type": "stream",
          "text": [
            "     Duration  Pulse  Calories\n",
            "0          60    110     409.1\n",
            "1          60    117     479.0\n",
            "2          60    103     340.0\n",
            "3          45    109     282.4\n",
            "4          45    117     406.0\n",
            "..        ...    ...       ...\n",
            "164        60    105     290.8\n",
            "165        60    110     300.0\n",
            "166        60    115     310.2\n",
            "167        75    120     320.4\n",
            "168        75    125     330.4\n",
            "\n",
            "[169 rows x 3 columns]\n"
          ]
        }
      ],
      "source": [
        "# Deleting Maxpulse column from the main dataframe\n",
        "dataSet.drop(columns=['Maxpulse'], inplace=True)\n",
        "print(dataSet)"
      ]
    },
    {
      "cell_type": "code",
      "execution_count": null,
      "metadata": {
        "colab": {
          "base_uri": "https://localhost:8080/"
        },
        "id": "hEUDe16ttjv1",
        "outputId": "8fdb0cb4-b317-4bfd-a97f-0b769eded098"
      },
      "outputs": [
        {
          "data": {
            "text/plain": [
              "Duration    int64\n",
              "Pulse       int64\n",
              "Calories    int64\n",
              "dtype: object"
            ]
          },
          "execution_count": 9,
          "metadata": {},
          "output_type": "execute_result"
        }
      ],
      "source": [
        "# Converting datatype of Calories column to int\n",
        "dataSet['Calories'] = dataSet['Calories'].astype(int)\n",
        "dataSet.dtypes"
      ]
    },
    {
      "cell_type": "code",
      "execution_count": null,
      "metadata": {
        "colab": {
          "base_uri": "https://localhost:8080/",
          "height": 501
        },
        "id": "bCbg-6DNttuG",
        "outputId": "3eab6723-ac66-4dbc-855f-4d598fd27f74"
      },
      "outputs": [
        {
          "name": "stderr",
          "output_type": "stream",
          "text": [
            "/usr/local/lib/python3.9/dist-packages/pandas/plotting/_matplotlib/core.py:1114: UserWarning: No data for colormapping provided via 'c'. Parameters 'cmap' will be ignored\n",
            "  scatter = ax.scatter(\n"
          ]
        },
        {
          "data": {
            "text/plain": [
              "<Axes: xlabel='Duration', ylabel='Calories'>"
            ]
          },
          "execution_count": 91,
          "metadata": {},
          "output_type": "execute_result"
        },
        {
          "data": {
            "image/png": "[encoded data removed]",
            "text/plain": [
              "<Figure size 640x480 with 1 Axes>"
            ]
          },
          "metadata": {},
          "output_type": "display_data"
        }
      ],
      "source": [
        "# Creating scatter plot of Duration and Calories columns\n",
        "dataSet.plot.scatter(x='Duration', y='Calories')"
      ]
    },
    {
      "cell_type": "code",
      "execution_count": null,
      "metadata": {
        "colab": {
          "base_uri": "https://localhost:8080/"
        },
        "id": "Cd3IZzD_wxXw",
        "outputId": "7976aa01-4e39-4277-e344-111c950b047f"
      },
      "outputs": [
        {
          "name": "stdout",
          "output_type": "stream",
          "text": [
            "Naive Bayes Accuracy: 0.20930232558139536\n",
            "              precision    recall  f1-score   support\n",
            "\n",
            "           1       0.00      0.00      0.00        10\n",
            "           2       0.57      0.18      0.28        22\n",
            "           3       0.00      0.00      0.00         3\n",
            "           5       0.00      0.00      0.00         2\n",
            "           6       0.00      0.00      0.00         1\n",
            "           7       0.83      1.00      0.91         5\n",
            "\n",
            "    accuracy                           0.21        43\n",
            "   macro avg       0.23      0.20      0.20        43\n",
            "weighted avg       0.39      0.21      0.25        43\n",
            "\n"
          ]
        }
      ],
      "source": [
        "#Glass DataSet Classifier \n",
        "import pandas as pd\n",
        "from sklearn.model_selection import train_test_split\n",
        "from sklearn.naive_bayes import GaussianNB\n",
        "from sklearn.svm import LinearSVC\n",
        "from sklearn.metrics import classification_report\n",
        "\n",
        "# Load the glass dataset using pandas\n",
        "glass = pd.read_csv(\"/drive/MyDrive/glass.csv\")\n",
        "\n",
        "# Extract the features and target variable\n",
        "X = glass.drop(\"Type\", axis=1).values\n",
        "y = glass[\"Type\"].values\n",
        "\n",
        "# Split the data into training and testing sets\n",
        "X_train, X_test, y_train, y_test = train_test_split(X, y, test_size=0.2, random_state=7)\n",
        "\n",
        "# Create a Gaussian Naive Bayes classifier\n",
        "clf_nb = GaussianNB()\n",
        "\n",
        "# Train the classifier on the training data\n",
        "clf_nb.fit(X_train, y_train)\n",
        "\n",
        "# Predict the class labels for the testing data\n",
        "y_pred_nb = clf_nb.predict(X_test)\n",
        "\n",
        "# Evaluate the classifier's performance on the testing data\n",
        "score_nb = clf_nb.score(X_test, y_test)\n",
        "print(\"Naive Bayes Accuracy:\", score_nb)\n",
        "\n",
        "report_nb = classification_report(y_test, y_pred_nb)\n",
        "print(report_nb)\n"
      ]
    },
    {
      "cell_type": "code",
      "execution_count": null,
      "metadata": {
        "colab": {
          "base_uri": "https://localhost:8080/"
        },
        "id": "JLxZFRb7y3qS",
        "outputId": "36a23bca-2ec2-4bd7-b57b-bb1d80a9f482"
      },
      "outputs": [
        {
          "name": "stdout",
          "output_type": "stream",
          "text": [
            "Linear SVM Accuracy: 0.13953488372093023\n",
            "              precision    recall  f1-score   support\n",
            "\n",
            "           1       0.00      0.00      0.00        10\n",
            "           2       0.00      0.00      0.00        22\n",
            "           3       0.08      1.00      0.15         3\n",
            "           5       0.00      0.00      0.00         2\n",
            "           6       0.00      0.00      0.00         1\n",
            "           7       0.75      0.60      0.67         5\n",
            "\n",
            "    accuracy                           0.14        43\n",
            "   macro avg       0.14      0.27      0.14        43\n",
            "weighted avg       0.09      0.14      0.09        43\n",
            "\n"
          ]
        },
        {
          "name": "stderr",
          "output_type": "stream",
          "text": [
            "/usr/local/lib/python3.9/dist-packages/sklearn/svm/_base.py:1244: ConvergenceWarning: Liblinear failed to converge, increase the number of iterations.\n",
            "  warnings.warn(\n",
            "/usr/local/lib/python3.9/dist-packages/sklearn/metrics/_classification.py:1344: UndefinedMetricWarning: Precision and F-score are ill-defined and being set to 0.0 in labels with no predicted samples. Use `zero_division` parameter to control this behavior.\n",
            "  _warn_prf(average, modifier, msg_start, len(result))\n",
            "/usr/local/lib/python3.9/dist-packages/sklearn/metrics/_classification.py:1344: UndefinedMetricWarning: Precision and F-score are ill-defined and being set to 0.0 in labels with no predicted samples. Use `zero_division` parameter to control this behavior.\n",
            "  _warn_prf(average, modifier, msg_start, len(result))\n",
            "/usr/local/lib/python3.9/dist-packages/sklearn/metrics/_classification.py:1344: UndefinedMetricWarning: Precision and F-score are ill-defined and being set to 0.0 in labels with no predicted samples. Use `zero_division` parameter to control this behavior.\n",
            "  _warn_prf(average, modifier, msg_start, len(result))\n"
          ]
        }
      ],
      "source": [
        "\n",
        "# Create a linear SVM classifier\n",
        "clf_svm = LinearSVC()\n",
        "\n",
        "# Train the classifier on the training data\n",
        "clf_svm.fit(X_train, y_train)\n",
        "\n",
        "# Predict the class labels for the testing data\n",
        "y_pred_svm = clf_svm.predict(X_test)\n",
        "\n",
        "# Evaluate the classifier's performance on the testing data\n",
        "score_svm = clf_svm.score(X_test, y_test)\n",
        "print(\"Linear SVM Accuracy:\", score_svm)\n",
        "\n",
        "report_svm = classification_report(y_test, y_pred_svm)\n",
        "print(report_svm)"
      ]
    },
    {
      "cell_type": "code",
      "execution_count": null,
      "metadata": {},
      "outputs": [],
      "source": [
        "#Implement linear SVM method using scikit library \n",
        "#a. Use the glass dataset available in Link also provided in your assignment. b. Use train_test_split to create training and testing part. \n",
        "import pandas as pd\n",
        "from sklearn.model_selection import train_test_split\n",
        "from sklearn.svm import LinearSVC\n",
        "from sklearn.metrics import accuracy_score, classification_report\n",
        "\n",
        "# Split the data into features (X) and target variable (y)\n",
        "X = data.iloc[:, :-1]\n",
        "y = data.iloc[:, -1]\n",
        "\n",
        "# Split the data into training and testing sets\n",
        "X_train, X_test, y_train, y_test = train_test_split(X, y, test_size=0.2, random_state=42)\n",
        "\n",
        "# Create an instance of the Linear SVM classifier\n",
        "model = SVC(kernel='linear')\n",
        "\n",
        "# Fit the model to the training data\n",
        "model.fit(X_train, y_train)\n",
        "\n",
        "# Make predictions on the testing data\n",
        "y_pred = model.predict(X_test)\n",
        "\n",
        "# Evaluate the model's accuracy score\n",
        "accuracy = accuracy_score(y_test, y_pred)\n",
        "print(\"Accuracy Score:\", accuracy)\n",
        "\n",
        "# Print the classification report\n",
        "classification_report_result = classification_report(y_test, y_pred, zero_division=1)\n",
        "print(\"Classification Report:\")\n",
        "print(classification_report_result)\n"
      ]
    },
    {
      "cell_type": "code",
      "execution_count": null,
      "metadata": {},
      "outputs": [],
      "source": [
        "#visualizations to describe or show correlations in the Glass Dataset. \n",
        "# Plotting correlation matrix\n",
        "correlation_matrix = data.corr()\n",
        "sns.heatmap(correlation_matrix, annot=True, cmap=\"YlGnBu\")\n",
        "plt.title(\"Correlation Matrix\")\n",
        "plt.show()\n",
        "\n",
        "# Plotting scatter plot of two variables\n",
        "sns.scatterplot(x=\"Al\", y=\"RI\", data=data)\n",
        "plt.title(\"Scatter Plot: Al vs RI\")\n",
        "plt.xlabel(\"Al\")\n",
        "plt.ylabel(\"RI\")\n",
        "plt.show()\n"
      ]
    },
    {
      "cell_type": "code",
      "execution_count": null,
      "metadata": {
        "colab": {
          "base_uri": "https://localhost:8080/",
          "height": 453
        },
        "id": "2BpiaQVCAZq3",
        "outputId": "0a4a609c-7217-4256-b4b3-c3a37e0112c4"
      },
      "outputs": [
        {
          "data": {
            "text/plain": [
              "<Axes: >"
            ]
          },
          "execution_count": 74,
          "metadata": {},
          "output_type": "execute_result"
        },
        {
          "data": {
            "image/png": "[encoded data removed]",
            "text/plain": [
              "<Figure size 640x480 with 2 Axes>"
            ]
          },
          "metadata": {},
          "output_type": "display_data"
        }
      ],
      "source": [
        "# Do at least two visualizations to describe or show correlations in the Glass Dataset. \n",
        "correlation_data = glass.corr()\n",
        "sns.heatmap(correlation_data,cmap='coolwarm')"
      ]
    },
    {
      "cell_type": "code",
      "execution_count": null,
      "metadata": {
        "colab": {
          "base_uri": "https://localhost:8080/",
          "height": 363
        },
        "id": "m5eR9lH_BLVU",
        "outputId": "90c83236-57b4-4a9e-d4e5-42583b09c62c"
      },
      "outputs": [
        {
          "data": {
            "text/html": [
              "<style type=\"text/css\">\n",
              "#T_6a966_row0_col0, #T_6a966_row1_col1, #T_6a966_row2_col2, #T_6a966_row3_col3, #T_6a966_row4_col4, #T_6a966_row5_col5, #T_6a966_row6_col6, #T_6a966_row7_col7, #T_6a966_row8_col8, #T_6a966_row9_col9 {\n",
              "  background-color: #f7fcf5;\n",
              "  color: #000000;\n",
              "}\n",
              "#T_6a966_row0_col1 {\n",
              "  background-color: #005924;\n",
              "  color: #f1f1f1;\n",
              "}\n",
              "#T_6a966_row0_col2 {\n",
              "  background-color: #3da65a;\n",
              "  color: #f1f1f1;\n",
              "}\n",
              "#T_6a966_row0_col3 {\n",
              "  background-color: #005321;\n",
              "  color: #f1f1f1;\n",
              "}\n",
              "#T_6a966_row0_col4, #T_6a966_row1_col8, #T_6a966_row2_col1, #T_6a966_row2_col3, #T_6a966_row2_col6, #T_6a966_row2_col7, #T_6a966_row2_col9, #T_6a966_row4_col0, #T_6a966_row6_col1, #T_6a966_row6_col5, #T_6a966_row9_col2 {\n",
              "  background-color: #00441b;\n",
              "  color: #f1f1f1;\n",
              "}\n",
              "#T_6a966_row0_col5 {\n",
              "  background-color: #004a1e;\n",
              "  color: #f1f1f1;\n",
              "}\n",
              "#T_6a966_row0_col6 {\n",
              "  background-color: #e4f5df;\n",
              "  color: #000000;\n",
              "}\n",
              "#T_6a966_row0_col7, #T_6a966_row4_col2 {\n",
              "  background-color: #369f54;\n",
              "  color: #f1f1f1;\n",
              "}\n",
              "#T_6a966_row0_col8 {\n",
              "  background-color: #319a50;\n",
              "  color: #f1f1f1;\n",
              "}\n",
              "#T_6a966_row0_col9 {\n",
              "  background-color: #37a055;\n",
              "  color: #f1f1f1;\n",
              "}\n",
              "#T_6a966_row1_col0, #T_6a966_row7_col6 {\n",
              "  background-color: #1d8640;\n",
              "  color: #f1f1f1;\n",
              "}\n",
              "#T_6a966_row1_col2, #T_6a966_row2_col0 {\n",
              "  background-color: #289049;\n",
              "  color: #f1f1f1;\n",
              "}\n",
              "#T_6a966_row1_col3, #T_6a966_row5_col2 {\n",
              "  background-color: #58b668;\n",
              "  color: #f1f1f1;\n",
              "}\n",
              "#T_6a966_row1_col4, #T_6a966_row9_col6 {\n",
              "  background-color: #309950;\n",
              "  color: #f1f1f1;\n",
              "}\n",
              "#T_6a966_row1_col5, #T_6a966_row9_col8 {\n",
              "  background-color: #005120;\n",
              "  color: #f1f1f1;\n",
              "}\n",
              "#T_6a966_row1_col6 {\n",
              "  background-color: #00692a;\n",
              "  color: #f1f1f1;\n",
              "}\n",
              "#T_6a966_row1_col7 {\n",
              "  background-color: #86cc85;\n",
              "  color: #000000;\n",
              "}\n",
              "#T_6a966_row1_col9, #T_6a966_row9_col7 {\n",
              "  background-color: #bde5b6;\n",
              "  color: #000000;\n",
              "}\n",
              "#T_6a966_row2_col4, #T_6a966_row2_col5, #T_6a966_row9_col0 {\n",
              "  background-color: #218944;\n",
              "  color: #f1f1f1;\n",
              "}\n",
              "#T_6a966_row2_col8, #T_6a966_row4_col7 {\n",
              "  background-color: #258d47;\n",
              "  color: #f1f1f1;\n",
              "}\n",
              "#T_6a966_row3_col0, #T_6a966_row5_col6 {\n",
              "  background-color: #006027;\n",
              "  color: #f1f1f1;\n",
              "}\n",
              "#T_6a966_row3_col1 {\n",
              "  background-color: #38a156;\n",
              "  color: #f1f1f1;\n",
              "}\n",
              "#T_6a966_row3_col2, #T_6a966_row6_col3 {\n",
              "  background-color: #077331;\n",
              "  color: #f1f1f1;\n",
              "}\n",
              "#T_6a966_row3_col4, #T_6a966_row7_col0 {\n",
              "  background-color: #3ba458;\n",
              "  color: #f1f1f1;\n",
              "}\n",
              "#T_6a966_row3_col5 {\n",
              "  background-color: #70c274;\n",
              "  color: #000000;\n",
              "}\n",
              "#T_6a966_row3_col6 {\n",
              "  background-color: #006d2c;\n",
              "  color: #f1f1f1;\n",
              "}\n",
              "#T_6a966_row3_col7, #T_6a966_row7_col3 {\n",
              "  background-color: #a9dca3;\n",
              "  color: #000000;\n",
              "}\n",
              "#T_6a966_row3_col8 {\n",
              "  background-color: #026f2e;\n",
              "  color: #f1f1f1;\n",
              "}\n",
              "#T_6a966_row3_col9 {\n",
              "  background-color: #ccebc6;\n",
              "  color: #000000;\n",
              "}\n",
              "#T_6a966_row4_col1, #T_6a966_row4_col6, #T_6a966_row5_col0 {\n",
              "  background-color: #0a7633;\n",
              "  color: #f1f1f1;\n",
              "}\n",
              "#T_6a966_row4_col3 {\n",
              "  background-color: #349d53;\n",
              "  color: #f1f1f1;\n",
              "}\n",
              "#T_6a966_row4_col5 {\n",
              "  background-color: #006328;\n",
              "  color: #f1f1f1;\n",
              "}\n",
              "#T_6a966_row4_col8 {\n",
              "  background-color: #006b2b;\n",
              "  color: #f1f1f1;\n",
              "}\n",
              "#T_6a966_row4_col9 {\n",
              "  background-color: #79c67a;\n",
              "  color: #000000;\n",
              "}\n",
              "#T_6a966_row5_col1 {\n",
              "  background-color: #00451c;\n",
              "  color: #f1f1f1;\n",
              "}\n",
              "#T_6a966_row5_col3 {\n",
              "  background-color: #84cc83;\n",
              "  color: #000000;\n",
              "}\n",
              "#T_6a966_row5_col4 {\n",
              "  background-color: #1c8540;\n",
              "  color: #f1f1f1;\n",
              "}\n",
              "#T_6a966_row5_col7 {\n",
              "  background-color: #2f984f;\n",
              "  color: #f1f1f1;\n",
              "}\n",
              "#T_6a966_row5_col8 {\n",
              "  background-color: #127c39;\n",
              "  color: #f1f1f1;\n",
              "}\n",
              "#T_6a966_row5_col9 {\n",
              "  background-color: #53b466;\n",
              "  color: #f1f1f1;\n",
              "}\n",
              "#T_6a966_row6_col0 {\n",
              "  background-color: #e5f5e1;\n",
              "  color: #000000;\n",
              "}\n",
              "#T_6a966_row6_col2 {\n",
              "  background-color: #0d7836;\n",
              "  color: #f1f1f1;\n",
              "}\n",
              "#T_6a966_row6_col4 {\n",
              "  background-color: #19833e;\n",
              "  color: #f1f1f1;\n",
              "}\n",
              "#T_6a966_row6_col7 {\n",
              "  background-color: #248c46;\n",
              "  color: #f1f1f1;\n",
              "}\n",
              "#T_6a966_row6_col8 {\n",
              "  background-color: #2e964d;\n",
              "  color: #f1f1f1;\n",
              "}\n",
              "#T_6a966_row6_col9 {\n",
              "  background-color: #56b567;\n",
              "  color: #f1f1f1;\n",
              "}\n",
              "#T_6a966_row7_col1 {\n",
              "  background-color: #68be70;\n",
              "  color: #000000;\n",
              "}\n",
              "#T_6a966_row7_col2, #T_6a966_row7_col8 {\n",
              "  background-color: #067230;\n",
              "  color: #f1f1f1;\n",
              "}\n",
              "#T_6a966_row7_col4 {\n",
              "  background-color: #2c944c;\n",
              "  color: #f1f1f1;\n",
              "}\n",
              "#T_6a966_row7_col5 {\n",
              "  background-color: #17813d;\n",
              "  color: #f1f1f1;\n",
              "}\n",
              "#T_6a966_row7_col9 {\n",
              "  background-color: #c9eac2;\n",
              "  color: #000000;\n",
              "}\n",
              "#T_6a966_row8_col0 {\n",
              "  background-color: #5db96b;\n",
              "  color: #f1f1f1;\n",
              "}\n",
              "#T_6a966_row8_col1 {\n",
              "  background-color: #004c1e;\n",
              "  color: #f1f1f1;\n",
              "}\n",
              "#T_6a966_row8_col2 {\n",
              "  background-color: #6abf71;\n",
              "  color: #000000;\n",
              "}\n",
              "#T_6a966_row8_col3 {\n",
              "  background-color: #29914a;\n",
              "  color: #f1f1f1;\n",
              "}\n",
              "#T_6a966_row8_col4, #T_6a966_row8_col7 {\n",
              "  background-color: #2d954d;\n",
              "  color: #f1f1f1;\n",
              "}\n",
              "#T_6a966_row8_col5 {\n",
              "  background-color: #1f8742;\n",
              "  color: #f1f1f1;\n",
              "}\n",
              "#T_6a966_row8_col6 {\n",
              "  background-color: #48ae60;\n",
              "  color: #f1f1f1;\n",
              "}\n",
              "#T_6a966_row8_col9 {\n",
              "  background-color: #339c52;\n",
              "  color: #f1f1f1;\n",
              "}\n",
              "#T_6a966_row9_col1 {\n",
              "  background-color: #9cd797;\n",
              "  color: #000000;\n",
              "}\n",
              "#T_6a966_row9_col3 {\n",
              "  background-color: #c1e6ba;\n",
              "  color: #000000;\n",
              "}\n",
              "#T_6a966_row9_col4 {\n",
              "  background-color: #60ba6c;\n",
              "  color: #f1f1f1;\n",
              "}\n",
              "#T_6a966_row9_col5 {\n",
              "  background-color: #1e8741;\n",
              "  color: #f1f1f1;\n",
              "}\n",
              "</style>\n",
              "<table id=\"T_6a966\" class=\"dataframe\">\n",
              "  <thead>\n",
              "    <tr>\n",
              "      <th class=\"blank level0\" >&nbsp;</th>\n",
              "      <th id=\"T_6a966_level0_col0\" class=\"col_heading level0 col0\" >RI</th>\n",
              "      <th id=\"T_6a966_level0_col1\" class=\"col_heading level0 col1\" >Na</th>\n",
              "      <th id=\"T_6a966_level0_col2\" class=\"col_heading level0 col2\" >Mg</th>\n",
              "      <th id=\"T_6a966_level0_col3\" class=\"col_heading level0 col3\" >Al</th>\n",
              "      <th id=\"T_6a966_level0_col4\" class=\"col_heading level0 col4\" >Si</th>\n",
              "      <th id=\"T_6a966_level0_col5\" class=\"col_heading level0 col5\" >K</th>\n",
              "      <th id=\"T_6a966_level0_col6\" class=\"col_heading level0 col6\" >Ca</th>\n",
              "      <th id=\"T_6a966_level0_col7\" class=\"col_heading level0 col7\" >Ba</th>\n",
              "      <th id=\"T_6a966_level0_col8\" class=\"col_heading level0 col8\" >Fe</th>\n",
              "      <th id=\"T_6a966_level0_col9\" class=\"col_heading level0 col9\" >Type</th>\n",
              "    </tr>\n",
              "  </thead>\n",
              "  <tbody>\n",
              "    <tr>\n",
              "      <th id=\"T_6a966_level0_row0\" class=\"row_heading level0 row0\" >RI</th>\n",
              "      <td id=\"T_6a966_row0_col0\" class=\"data row0 col0\" >1.000000</td>\n",
              "      <td id=\"T_6a966_row0_col1\" class=\"data row0 col1\" >-0.191885</td>\n",
              "      <td id=\"T_6a966_row0_col2\" class=\"data row0 col2\" >-0.122274</td>\n",
              "      <td id=\"T_6a966_row0_col3\" class=\"data row0 col3\" >-0.407326</td>\n",
              "      <td id=\"T_6a966_row0_col4\" class=\"data row0 col4\" >-0.542052</td>\n",
              "      <td id=\"T_6a966_row0_col5\" class=\"data row0 col5\" >-0.289833</td>\n",
              "      <td id=\"T_6a966_row0_col6\" class=\"data row0 col6\" >0.810403</td>\n",
              "      <td id=\"T_6a966_row0_col7\" class=\"data row0 col7\" >-0.000386</td>\n",
              "      <td id=\"T_6a966_row0_col8\" class=\"data row0 col8\" >0.143010</td>\n",
              "      <td id=\"T_6a966_row0_col9\" class=\"data row0 col9\" >-0.164237</td>\n",
              "    </tr>\n",
              "    <tr>\n",
              "      <th id=\"T_6a966_level0_row1\" class=\"row_heading level0 row1\" >Na</th>\n",
              "      <td id=\"T_6a966_row1_col0\" class=\"data row1 col0\" >-0.191885</td>\n",
              "      <td id=\"T_6a966_row1_col1\" class=\"data row1 col1\" >1.000000</td>\n",
              "      <td id=\"T_6a966_row1_col2\" class=\"data row1 col2\" >-0.273732</td>\n",
              "      <td id=\"T_6a966_row1_col3\" class=\"data row1 col3\" >0.156794</td>\n",
              "      <td id=\"T_6a966_row1_col4\" class=\"data row1 col4\" >-0.069809</td>\n",
              "      <td id=\"T_6a966_row1_col5\" class=\"data row1 col5\" >-0.266087</td>\n",
              "      <td id=\"T_6a966_row1_col6\" class=\"data row1 col6\" >-0.275442</td>\n",
              "      <td id=\"T_6a966_row1_col7\" class=\"data row1 col7\" >0.326603</td>\n",
              "      <td id=\"T_6a966_row1_col8\" class=\"data row1 col8\" >-0.241346</td>\n",
              "      <td id=\"T_6a966_row1_col9\" class=\"data row1 col9\" >0.502898</td>\n",
              "    </tr>\n",
              "    <tr>\n",
              "      <th id=\"T_6a966_level0_row2\" class=\"row_heading level0 row2\" >Mg</th>\n",
              "      <td id=\"T_6a966_row2_col0\" class=\"data row2 col0\" >-0.122274</td>\n",
              "      <td id=\"T_6a966_row2_col1\" class=\"data row2 col1\" >-0.273732</td>\n",
              "      <td id=\"T_6a966_row2_col2\" class=\"data row2 col2\" >1.000000</td>\n",
              "      <td id=\"T_6a966_row2_col3\" class=\"data row2 col3\" >-0.481799</td>\n",
              "      <td id=\"T_6a966_row2_col4\" class=\"data row2 col4\" >-0.165927</td>\n",
              "      <td id=\"T_6a966_row2_col5\" class=\"data row2 col5\" >0.005396</td>\n",
              "      <td id=\"T_6a966_row2_col6\" class=\"data row2 col6\" >-0.443750</td>\n",
              "      <td id=\"T_6a966_row2_col7\" class=\"data row2 col7\" >-0.492262</td>\n",
              "      <td id=\"T_6a966_row2_col8\" class=\"data row2 col8\" >0.083060</td>\n",
              "      <td id=\"T_6a966_row2_col9\" class=\"data row2 col9\" >-0.744993</td>\n",
              "    </tr>\n",
              "    <tr>\n",
              "      <th id=\"T_6a966_level0_row3\" class=\"row_heading level0 row3\" >Al</th>\n",
              "      <td id=\"T_6a966_row3_col0\" class=\"data row3 col0\" >-0.407326</td>\n",
              "      <td id=\"T_6a966_row3_col1\" class=\"data row3 col1\" >0.156794</td>\n",
              "      <td id=\"T_6a966_row3_col2\" class=\"data row3 col2\" >-0.481799</td>\n",
              "      <td id=\"T_6a966_row3_col3\" class=\"data row3 col3\" >1.000000</td>\n",
              "      <td id=\"T_6a966_row3_col4\" class=\"data row3 col4\" >-0.005524</td>\n",
              "      <td id=\"T_6a966_row3_col5\" class=\"data row3 col5\" >0.325958</td>\n",
              "      <td id=\"T_6a966_row3_col6\" class=\"data row3 col6\" >-0.259592</td>\n",
              "      <td id=\"T_6a966_row3_col7\" class=\"data row3 col7\" >0.479404</td>\n",
              "      <td id=\"T_6a966_row3_col8\" class=\"data row3 col8\" >-0.074402</td>\n",
              "      <td id=\"T_6a966_row3_col9\" class=\"data row3 col9\" >0.598829</td>\n",
              "    </tr>\n",
              "    <tr>\n",
              "      <th id=\"T_6a966_level0_row4\" class=\"row_heading level0 row4\" >Si</th>\n",
              "      <td id=\"T_6a966_row4_col0\" class=\"data row4 col0\" >-0.542052</td>\n",
              "      <td id=\"T_6a966_row4_col1\" class=\"data row4 col1\" >-0.069809</td>\n",
              "      <td id=\"T_6a966_row4_col2\" class=\"data row4 col2\" >-0.165927</td>\n",
              "      <td id=\"T_6a966_row4_col3\" class=\"data row4 col3\" >-0.005524</td>\n",
              "      <td id=\"T_6a966_row4_col4\" class=\"data row4 col4\" >1.000000</td>\n",
              "      <td id=\"T_6a966_row4_col5\" class=\"data row4 col5\" >-0.193331</td>\n",
              "      <td id=\"T_6a966_row4_col6\" class=\"data row4 col6\" >-0.208732</td>\n",
              "      <td id=\"T_6a966_row4_col7\" class=\"data row4 col7\" >-0.102151</td>\n",
              "      <td id=\"T_6a966_row4_col8\" class=\"data row4 col8\" >-0.094201</td>\n",
              "      <td id=\"T_6a966_row4_col9\" class=\"data row4 col9\" >0.151565</td>\n",
              "    </tr>\n",
              "    <tr>\n",
              "      <th id=\"T_6a966_level0_row5\" class=\"row_heading level0 row5\" >K</th>\n",
              "      <td id=\"T_6a966_row5_col0\" class=\"data row5 col0\" >-0.289833</td>\n",
              "      <td id=\"T_6a966_row5_col1\" class=\"data row5 col1\" >-0.266087</td>\n",
              "      <td id=\"T_6a966_row5_col2\" class=\"data row5 col2\" >0.005396</td>\n",
              "      <td id=\"T_6a966_row5_col3\" class=\"data row5 col3\" >0.325958</td>\n",
              "      <td id=\"T_6a966_row5_col4\" class=\"data row5 col4\" >-0.193331</td>\n",
              "      <td id=\"T_6a966_row5_col5\" class=\"data row5 col5\" >1.000000</td>\n",
              "      <td id=\"T_6a966_row5_col6\" class=\"data row5 col6\" >-0.317836</td>\n",
              "      <td id=\"T_6a966_row5_col7\" class=\"data row5 col7\" >-0.042618</td>\n",
              "      <td id=\"T_6a966_row5_col8\" class=\"data row5 col8\" >-0.007719</td>\n",
              "      <td id=\"T_6a966_row5_col9\" class=\"data row5 col9\" >-0.010054</td>\n",
              "    </tr>\n",
              "    <tr>\n",
              "      <th id=\"T_6a966_level0_row6\" class=\"row_heading level0 row6\" >Ca</th>\n",
              "      <td id=\"T_6a966_row6_col0\" class=\"data row6 col0\" >0.810403</td>\n",
              "      <td id=\"T_6a966_row6_col1\" class=\"data row6 col1\" >-0.275442</td>\n",
              "      <td id=\"T_6a966_row6_col2\" class=\"data row6 col2\" >-0.443750</td>\n",
              "      <td id=\"T_6a966_row6_col3\" class=\"data row6 col3\" >-0.259592</td>\n",
              "      <td id=\"T_6a966_row6_col4\" class=\"data row6 col4\" >-0.208732</td>\n",
              "      <td id=\"T_6a966_row6_col5\" class=\"data row6 col5\" >-0.317836</td>\n",
              "      <td id=\"T_6a966_row6_col6\" class=\"data row6 col6\" >1.000000</td>\n",
              "      <td id=\"T_6a966_row6_col7\" class=\"data row6 col7\" >-0.112841</td>\n",
              "      <td id=\"T_6a966_row6_col8\" class=\"data row6 col8\" >0.124968</td>\n",
              "      <td id=\"T_6a966_row6_col9\" class=\"data row6 col9\" >0.000952</td>\n",
              "    </tr>\n",
              "    <tr>\n",
              "      <th id=\"T_6a966_level0_row7\" class=\"row_heading level0 row7\" >Ba</th>\n",
              "      <td id=\"T_6a966_row7_col0\" class=\"data row7 col0\" >-0.000386</td>\n",
              "      <td id=\"T_6a966_row7_col1\" class=\"data row7 col1\" >0.326603</td>\n",
              "      <td id=\"T_6a966_row7_col2\" class=\"data row7 col2\" >-0.492262</td>\n",
              "      <td id=\"T_6a966_row7_col3\" class=\"data row7 col3\" >0.479404</td>\n",
              "      <td id=\"T_6a966_row7_col4\" class=\"data row7 col4\" >-0.102151</td>\n",
              "      <td id=\"T_6a966_row7_col5\" class=\"data row7 col5\" >-0.042618</td>\n",
              "      <td id=\"T_6a966_row7_col6\" class=\"data row7 col6\" >-0.112841</td>\n",
              "      <td id=\"T_6a966_row7_col7\" class=\"data row7 col7\" >1.000000</td>\n",
              "      <td id=\"T_6a966_row7_col8\" class=\"data row7 col8\" >-0.058692</td>\n",
              "      <td id=\"T_6a966_row7_col9\" class=\"data row7 col9\" >0.575161</td>\n",
              "    </tr>\n",
              "    <tr>\n",
              "      <th id=\"T_6a966_level0_row8\" class=\"row_heading level0 row8\" >Fe</th>\n",
              "      <td id=\"T_6a966_row8_col0\" class=\"data row8 col0\" >0.143010</td>\n",
              "      <td id=\"T_6a966_row8_col1\" class=\"data row8 col1\" >-0.241346</td>\n",
              "      <td id=\"T_6a966_row8_col2\" class=\"data row8 col2\" >0.083060</td>\n",
              "      <td id=\"T_6a966_row8_col3\" class=\"data row8 col3\" >-0.074402</td>\n",
              "      <td id=\"T_6a966_row8_col4\" class=\"data row8 col4\" >-0.094201</td>\n",
              "      <td id=\"T_6a966_row8_col5\" class=\"data row8 col5\" >-0.007719</td>\n",
              "      <td id=\"T_6a966_row8_col6\" class=\"data row8 col6\" >0.124968</td>\n",
              "      <td id=\"T_6a966_row8_col7\" class=\"data row8 col7\" >-0.058692</td>\n",
              "      <td id=\"T_6a966_row8_col8\" class=\"data row8 col8\" >1.000000</td>\n",
              "      <td id=\"T_6a966_row8_col9\" class=\"data row8 col9\" >-0.188278</td>\n",
              "    </tr>\n",
              "    <tr>\n",
              "      <th id=\"T_6a966_level0_row9\" class=\"row_heading level0 row9\" >Type</th>\n",
              "      <td id=\"T_6a966_row9_col0\" class=\"data row9 col0\" >-0.164237</td>\n",
              "      <td id=\"T_6a966_row9_col1\" class=\"data row9 col1\" >0.502898</td>\n",
              "      <td id=\"T_6a966_row9_col2\" class=\"data row9 col2\" >-0.744993</td>\n",
              "      <td id=\"T_6a966_row9_col3\" class=\"data row9 col3\" >0.598829</td>\n",
              "      <td id=\"T_6a966_row9_col4\" class=\"data row9 col4\" >0.151565</td>\n",
              "      <td id=\"T_6a966_row9_col5\" class=\"data row9 col5\" >-0.010054</td>\n",
              "      <td id=\"T_6a966_row9_col6\" class=\"data row9 col6\" >0.000952</td>\n",
              "      <td id=\"T_6a966_row9_col7\" class=\"data row9 col7\" >0.575161</td>\n",
              "      <td id=\"T_6a966_row9_col8\" class=\"data row9 col8\" >-0.188278</td>\n",
              "      <td id=\"T_6a966_row9_col9\" class=\"data row9 col9\" >1.000000</td>\n",
              "    </tr>\n",
              "  </tbody>\n",
              "</table>\n"
            ],
            "text/plain": [
              "<pandas.io.formats.style.Styler at 0x7fecfb3440d0>"
            ]
          },
          "execution_count": 88,
          "metadata": {},
          "output_type": "execute_result"
        }
      ],
      "source": [
        " #visualization 2\n",
        " glass.corr().style.background_gradient(cmap=\"Greens_r\")"
      ]
    },
    {
      "cell_type": "code",
      "execution_count": null,
      "metadata": {
        "id": "jns3HW8XBfWP"
      },
      "outputs": [],
      "source": []
    }
  ],
  "metadata": {
    "colab": {
      "provenance": []
    },
    "kernelspec": {
      "display_name": "Python 3",
      "name": "python3"
    },
    "language_info": {
      "name": "python"
    }
  },
  "nbformat": 4,
  "nbformat_minor": 0
}
